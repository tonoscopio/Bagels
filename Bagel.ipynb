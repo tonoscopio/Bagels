{
 "cells": [
  {
   "cell_type": "code",
   "execution_count": 5,
   "id": "8a8c1912",
   "metadata": {},
   "outputs": [
    {
     "data": {
      "text/plain": [
       "' Bagels, por Al Sweigart al@inventwithpython.com\\nA deductive logic game where you must guess a number based on clues.\\nView this code at https://nostarch.com/big-book-small-python-projects\\nA version of this game is featured in the book \"Invent Your Own Computer Games with Python\"\\nhttps://nostarch.com/inventwithpython\\nTags: short, game, puzzle '"
      ]
     },
     "execution_count": 5,
     "metadata": {},
     "output_type": "execute_result"
    }
   ],
   "source": [
    "\"\"\" Bagels, por Al Sweigart al@inventwithpython.com\n",
    "A deductive logic game where you must guess a number based on clues.\n",
    "View this code at https://nostarch.com/big-book-small-python-projects\n",
    "A version of this game is featured in the book \"Invent Your Own Computer Games with Python\"\n",
    "https://nostarch.com/inventwithpython\n",
    "Tags: short, game, puzzle \"\"\"\n",
    "\n"
   ]
  },
  {
   "cell_type": "code",
   "execution_count": 4,
   "id": "b6eaed6f",
   "metadata": {},
   "outputs": [],
   "source": [
    "import random"
   ]
  },
  {
   "cell_type": "code",
   "execution_count": null,
   "id": "a788447e",
   "metadata": {},
   "outputs": [
    {
     "name": "stdout",
     "output_type": "stream",
     "text": [
      "Bagels, a deductive logic game.\n",
      "    By Al Seigart al@inventwithpython.com\n",
      "    \n",
      "    Eu estou pensando em um número de 3-digitos, sem numeros repetidos. Tente adivinhar qual,\n",
      "    aqui estão algumas dicas: \n",
      "    Quando eu digo:      Significa:\n",
      "    Pico                 1 digito está correto, mas na posição errada\n",
      "    Fermi                1 digito está correto, e na posição correta\n",
      "    Bagels               Nenhum digito está certo\n",
      "    \n",
      "    Por exemplo, se o número secreto é 248 e você chuta 843, as pistas serão\n",
      "    Fermi Pico\n",
      "Eu pensei em um número. \n",
      "Você tem 10 chances de acertar.\n",
      "Guess #1: \n",
      "> 012\n",
      "Pico Pico\n",
      "Guess #2: \n",
      "> 201\n",
      "Fermi Fermi\n",
      "Guess #3: \n",
      "> 231\n",
      "Fermi\n",
      "Guess #4: \n",
      "> 205\n",
      "Fermi Fermi\n",
      "Guess #5: \n",
      "> 206\n",
      "Você Conseguiu\n",
      "Você quer jogar novamente? (sim ou nao)\n",
      "> s\n",
      "Eu pensei em um número. \n",
      "Você tem 10 chances de acertar.\n",
      "Guess #1: \n"
     ]
    }
   ],
   "source": [
    "NUM_DIGITS = 3 # (!) Try setting this to 1 or 10.\n",
    "MAX_GUESSES = 10 #(!) Try setting this to 1 or 100.\n",
    "\n",
    "def main():\n",
    "    print('''Bagels, a deductive logic game.\n",
    "    By Al Seigart al@inventwithpython.com\n",
    "    \n",
    "    Eu estou pensando em um número de {}-digitos, sem numeros repetidos. Tente adivinhar qual,\n",
    "    aqui estão algumas dicas: \n",
    "    Quando eu digo:      Significa:\n",
    "    Pico                 1 digito está correto, mas na posição errada\n",
    "    Fermi                1 digito está correto, e na posição correta\n",
    "    Bagels               Nenhum digito está certo\n",
    "    \n",
    "    Por exemplo, se o número secreto é 248 e você chuta 843, as pistas serão\n",
    "    Fermi Pico'''.format(NUM_DIGITS))\n",
    "    \n",
    "    while True: # Mais game loop.\n",
    "        # Aqui guarda-se o número que o jogador precisa adivinhar:\n",
    "        secretNum = getSecretNum()\n",
    "        print('Eu pensei em um número. ')\n",
    "        print('Você tem {} chances de acertar.' .format(MAX_GUESSES))\n",
    "        \n",
    "        numGuesses = 1\n",
    "        while numGuesses <= MAX_GUESSES:\n",
    "            guess = ''\n",
    "            #Continua o looping até chegar em uma tentativa válida:\n",
    "            while len(guess) != NUM_DIGITS or not guess.isdecimal():\n",
    "                print('Guess #{}: '.format(numGuesses))\n",
    "                guess = input('> ')\n",
    "                \n",
    "            clues = getClues(guess, secretNum)\n",
    "            print(clues)\n",
    "            numGuesses += 1\n",
    "            \n",
    "            if guess == secretNum:\n",
    "                break # Eles acertaram o número, então corta o loop.\n",
    "            if numGuesses > MAX_GUESSES:\n",
    "                print(\"Você não tem mais chutes.\")\n",
    "                print(\"A resposta era {}.\" .format(secretNum))\n",
    "        \n",
    "        #Pergunte ao jogador se ele quer jogar novamente:\n",
    "        print('Você quer jogar novamente? (sim ou nao)')\n",
    "        if not input('> ').lower().startswith('s'):\n",
    "            break\n",
    "    print('Obrigado por jogar')\n",
    "    \n",
    "    \n",
    "def getSecretNum():\n",
    "    \"\"\"Retorna uma string feita de NUM_DIGITS com valores únicos aleatórios\"\"\"\n",
    "    numbers = list('0123456789')  # cria uma lista com digitos de 0 a 9.\n",
    "    random.shuffle(numbers)  # embaralha em uma ordem aleatória.\n",
    "\n",
    "    # Pega o primeiro digito do NUM_DIGITS na lista para o número secreto:\n",
    "    secretNum = ''\n",
    "    for i in range(NUM_DIGITS):\n",
    "        secretNum += str(numbers[i])\n",
    "    return secretNum\n",
    "\n",
    "def getClues (guess, secretNum):\n",
    "    \"\"\"Retonar a string com as pistas pico, fermi, bagels, para uma tentativa e par do número secreto \"\"\"\n",
    "    if guess == secretNum:\n",
    "        return 'Você Conseguiu'\n",
    "    \n",
    "    clues = []\n",
    "    \n",
    "    for i in range(len(guess)):\n",
    "        if guess[i] ==secretNum[i]:\n",
    "            # Um número correto na posição correta\n",
    "            clues.append('Fermi')\n",
    "        elif guess[i] in secretNum:\n",
    "            #Um número correto na posição errada\n",
    "            clues.append('Pico')\n",
    "    if len(clues)==0:\n",
    "        return 'Bagels' #não existe nenhum numero correto.\n",
    "    else:\n",
    "        #Ordene as pistas em ordem alfabética, para que não de pistas a mais.\n",
    "        clues.sort()\n",
    "        #Faça uma string da lista de pistas.\n",
    "        return ' '.join(clues)\n",
    "#se o programa é run, ao inves de importado, rode o jogo:\n",
    "if __name__ == '__main__':\n",
    "    main()"
   ]
  },
  {
   "cell_type": "code",
   "execution_count": null,
   "id": "22f2cee3",
   "metadata": {},
   "outputs": [],
   "source": []
  }
 ],
 "metadata": {
  "kernelspec": {
   "display_name": "Python 3 (ipykernel)",
   "language": "python",
   "name": "python3"
  },
  "language_info": {
   "codemirror_mode": {
    "name": "ipython",
    "version": 3
   },
   "file_extension": ".py",
   "mimetype": "text/x-python",
   "name": "python",
   "nbconvert_exporter": "python",
   "pygments_lexer": "ipython3",
   "version": "3.9.7"
  }
 },
 "nbformat": 4,
 "nbformat_minor": 5
}
